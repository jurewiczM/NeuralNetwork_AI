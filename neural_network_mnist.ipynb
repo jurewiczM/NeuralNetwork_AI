{
 "cells": [
  {
   "cell_type": "code",
   "execution_count": 5,
   "metadata": {},
   "outputs": [
    {
     "name": "stdout",
     "output_type": "stream",
     "text": [
      "The tensorboard extension is already loaded. To reload it, use:\n",
      "  %reload_ext tensorboard\n"
     ]
    }
   ],
   "source": [
    "%load_ext tensorboard\n",
    "\n",
    "import numpy as np \n",
    "import matplotlib.pyplot as plt\n",
    "from keras.layers import Dense,Flatten,Dropout\n",
    "from keras.models import Sequential\n",
    "from keras.utils import to_categorical\n",
    "from keras.datasets import  mnist\n",
    "from keras.callbacks import ModelCheckpoint\n",
    "from keras.callbacks import TensorBoard\n",
    "\n",
    "\n",
    "import tensorflow as tf\n",
    "import datetime\n"
   ]
  },
  {
   "cell_type": "code",
   "execution_count": 6,
   "metadata": {},
   "outputs": [
    {
     "name": "stdout",
     "output_type": "stream",
     "text": [
      "(10000, 28, 28)\n",
      "(60000, 28, 28)\n",
      "(10000,)\n",
      "(60000,)\n",
      "[[[0 0 0 ... 0 0 0]\n",
      "  [0 0 0 ... 0 0 0]\n",
      "  [0 0 0 ... 0 0 0]\n",
      "  ...\n",
      "  [0 0 0 ... 0 0 0]\n",
      "  [0 0 0 ... 0 0 0]\n",
      "  [0 0 0 ... 0 0 0]]\n",
      "\n",
      " [[0 0 0 ... 0 0 0]\n",
      "  [0 0 0 ... 0 0 0]\n",
      "  [0 0 0 ... 0 0 0]\n",
      "  ...\n",
      "  [0 0 0 ... 0 0 0]\n",
      "  [0 0 0 ... 0 0 0]\n",
      "  [0 0 0 ... 0 0 0]]\n",
      "\n",
      " [[0 0 0 ... 0 0 0]\n",
      "  [0 0 0 ... 0 0 0]\n",
      "  [0 0 0 ... 0 0 0]\n",
      "  ...\n",
      "  [0 0 0 ... 0 0 0]\n",
      "  [0 0 0 ... 0 0 0]\n",
      "  [0 0 0 ... 0 0 0]]\n",
      "\n",
      " ...\n",
      "\n",
      " [[0 0 0 ... 0 0 0]\n",
      "  [0 0 0 ... 0 0 0]\n",
      "  [0 0 0 ... 0 0 0]\n",
      "  ...\n",
      "  [0 0 0 ... 0 0 0]\n",
      "  [0 0 0 ... 0 0 0]\n",
      "  [0 0 0 ... 0 0 0]]\n",
      "\n",
      " [[0 0 0 ... 0 0 0]\n",
      "  [0 0 0 ... 0 0 0]\n",
      "  [0 0 0 ... 0 0 0]\n",
      "  ...\n",
      "  [0 0 0 ... 0 0 0]\n",
      "  [0 0 0 ... 0 0 0]\n",
      "  [0 0 0 ... 0 0 0]]\n",
      "\n",
      " [[0 0 0 ... 0 0 0]\n",
      "  [0 0 0 ... 0 0 0]\n",
      "  [0 0 0 ... 0 0 0]\n",
      "  ...\n",
      "  [0 0 0 ... 0 0 0]\n",
      "  [0 0 0 ... 0 0 0]\n",
      "  [0 0 0 ... 0 0 0]]]\n"
     ]
    }
   ],
   "source": [
    "(X_train, y_train),(X_test,y_test) = mnist.load_data()\n",
    "print(X_test.shape)\n",
    "print(X_train.shape)\n",
    "print(y_test.shape)\n",
    "print(y_train.shape)\n",
    "print(X_test)"
   ]
  },
  {
   "cell_type": "code",
   "execution_count": 7,
   "metadata": {},
   "outputs": [
    {
     "data": {
      "image/png": "[encoded data removed]",
      "text/plain": [
       "<Figure size 1000x400 with 10 Axes>"
      ]
     },
     "metadata": {},
     "output_type": "display_data"
    }
   ],
   "source": [
    "# Display some images\n",
    "fig, axes = plt.subplots(ncols=10, sharex=False, \n",
    "    sharey=True, figsize=(10, 4))\n",
    "for i in range(10):\n",
    "    axes[i].set_title(y_train[i])\n",
    "    axes[i].imshow(X_train[i], cmap='gray')\n",
    "    axes[i].get_xaxis().set_visible(False)\n",
    "    axes[i].get_yaxis().set_visible(False)\n",
    "plt.show()"
   ]
  },
  {
   "cell_type": "code",
   "execution_count": 8,
   "metadata": {},
   "outputs": [
    {
     "name": "stdout",
     "output_type": "stream",
     "text": [
      "(60000, 10)\n",
      "(10000, 10)\n"
     ]
    }
   ],
   "source": [
    "# Convert y_train into one-hot format\n",
    "temp = []\n",
    "for i in range(len(y_train)):\n",
    "    temp.append(to_categorical(y_train[i], num_classes=10))\n",
    "y_train = np.array(temp)\n",
    "# Convert y_test into one-hot format\n",
    "temp = []\n",
    "for i in range(len(y_test)):    \n",
    "    temp.append(to_categorical(y_test[i], num_classes=10))\n",
    "y_test = np.array(temp)\n",
    "\n",
    "print(y_train.shape)\n",
    "print(y_test.shape)\n"
   ]
  },
  {
   "cell_type": "code",
   "execution_count": 9,
   "metadata": {},
   "outputs": [
    {
     "name": "stdout",
     "output_type": "stream",
     "text": [
      "WARNING:tensorflow:From C:\\Users\\MAXJ\\AppData\\Roaming\\Python\\Python39\\site-packages\\keras\\src\\backend.py:873: The name tf.get_default_graph is deprecated. Please use tf.compat.v1.get_default_graph instead.\n",
      "\n"
     ]
    }
   ],
   "source": [
    "model = Sequential()\n",
    "model.add(Flatten(input_shape=(28,28)))\n",
    "model.add(Dense(50,activation='sigmoid'))\n",
    "model.add(Dropout(0.2))\n",
    "model.add(Dense(20,activation='relu'))\n",
    "model.add(Dropout(0.2))\n",
    "model.add(Dense(10,activation='softmax'))"
   ]
  },
  {
   "cell_type": "code",
   "execution_count": 10,
   "metadata": {},
   "outputs": [
    {
     "name": "stdout",
     "output_type": "stream",
     "text": [
      "Model: \"sequential\"\n",
      "_________________________________________________________________\n",
      " Layer (type)                Output Shape              Param #   \n",
      "=================================================================\n",
      " flatten (Flatten)           (None, 784)               0         \n",
      "                                                                 \n",
      " dense (Dense)               (None, 50)                39250     \n",
      "                                                                 \n",
      " dropout (Dropout)           (None, 50)                0         \n",
      "                                                                 \n",
      " dense_1 (Dense)             (None, 20)                1020      \n",
      "                                                                 \n",
      " dropout_1 (Dropout)         (None, 20)                0         \n",
      "                                                                 \n",
      " dense_2 (Dense)             (None, 10)                210       \n",
      "                                                                 \n",
      "=================================================================\n",
      "Total params: 40480 (158.12 KB)\n",
      "Trainable params: 40480 (158.12 KB)\n",
      "Non-trainable params: 0 (0.00 Byte)\n",
      "_________________________________________________________________\n"
     ]
    }
   ],
   "source": [
    "model.summary()"
   ]
  },
  {
   "cell_type": "code",
   "execution_count": 30,
   "metadata": {},
   "outputs": [],
   "source": [
    "model.compile(loss='categorical_crossentropy',optimizer='adam',metrics=['acc'])"
   ]
  },
  {
   "cell_type": "code",
   "execution_count": 31,
   "metadata": {},
   "outputs": [
    {
     "name": "stdout",
     "output_type": "stream",
     "text": [
      "Epoch 1/10\n",
      "1875/1875 [==============================] - ETA: 0s - loss: 0.4502 - acc: 0.8671\n",
      "Epoch 1: val_loss improved from inf to 0.31311, saving model to my_best_model.epoch_01-loss_13.31.hdf5\n",
      "1875/1875 [==============================] - 7s 3ms/step - loss: 0.4502 - acc: 0.8671 - val_loss: 0.3131 - val_acc: 0.9064\n",
      "Epoch 2/10\n",
      "1860/1875 [============================>.] - ETA: 0s - loss: 0.4623 - acc: 0.8641\n",
      "Epoch 2: val_loss improved from 0.31311 to 0.26252, saving model to my_best_model.epoch_01-loss_13.31.hdf5\n",
      "1875/1875 [==============================] - 6s 3ms/step - loss: 0.4614 - acc: 0.8644 - val_loss: 0.2625 - val_acc: 0.9178\n",
      "Epoch 3/10\n",
      "1857/1875 [============================>.] - ETA: 0s - loss: 0.4316 - acc: 0.8730\n",
      "Epoch 3: val_loss did not improve from 0.26252\n",
      "1875/1875 [==============================] - 6s 3ms/step - loss: 0.4319 - acc: 0.8728 - val_loss: 0.2805 - val_acc: 0.9154\n",
      "Epoch 4/10\n",
      "1869/1875 [============================>.] - ETA: 0s - loss: 0.4278 - acc: 0.8743\n",
      "Epoch 4: val_loss did not improve from 0.26252\n",
      "1875/1875 [==============================] - 6s 3ms/step - loss: 0.4280 - acc: 0.8743 - val_loss: 0.2697 - val_acc: 0.9216\n",
      "Epoch 5/10\n",
      "1875/1875 [==============================] - ETA: 0s - loss: 0.4216 - acc: 0.8763\n",
      "Epoch 5: val_loss improved from 0.26252 to 0.25987, saving model to my_best_model.epoch_01-loss_13.31.hdf5\n",
      "1875/1875 [==============================] - 6s 3ms/step - loss: 0.4216 - acc: 0.8763 - val_loss: 0.2599 - val_acc: 0.9223\n",
      "Epoch 6/10\n",
      "1858/1875 [============================>.] - ETA: 0s - loss: 0.4098 - acc: 0.8799\n",
      "Epoch 6: val_loss did not improve from 0.25987\n",
      "1875/1875 [==============================] - 6s 3ms/step - loss: 0.4103 - acc: 0.8797 - val_loss: 0.2675 - val_acc: 0.9180\n",
      "Epoch 7/10\n",
      "1864/1875 [============================>.] - ETA: 0s - loss: 0.4196 - acc: 0.8760\n",
      "Epoch 7: val_loss did not improve from 0.25987\n",
      "1875/1875 [==============================] - 6s 3ms/step - loss: 0.4199 - acc: 0.8759 - val_loss: 0.2628 - val_acc: 0.9206\n",
      "Epoch 8/10\n",
      "1872/1875 [============================>.] - ETA: 0s - loss: 0.4163 - acc: 0.8773\n",
      "Epoch 8: val_loss did not improve from 0.25987\n",
      "1875/1875 [==============================] - 6s 3ms/step - loss: 0.4164 - acc: 0.8773 - val_loss: 0.2600 - val_acc: 0.9210\n",
      "Epoch 9/10\n",
      "1865/1875 [============================>.] - ETA: 0s - loss: 0.4083 - acc: 0.8814\n",
      "Epoch 9: val_loss improved from 0.25987 to 0.25603, saving model to my_best_model.epoch_01-loss_13.31.hdf5\n",
      "1875/1875 [==============================] - 7s 3ms/step - loss: 0.4083 - acc: 0.8814 - val_loss: 0.2560 - val_acc: 0.9227\n",
      "Epoch 10/10\n",
      "1862/1875 [============================>.] - ETA: 0s - loss: 0.4038 - acc: 0.8820\n",
      "Epoch 10: val_loss did not improve from 0.25603\n",
      "1875/1875 [==============================] - 6s 3ms/step - loss: 0.4037 - acc: 0.8820 - val_loss: 0.2729 - val_acc: 0.9168\n"
     ]
    },
    {
     "data": {
      "text/plain": [
       "<keras.src.callbacks.History at 0x1a7a7f8c2b0>"
      ]
     },
     "execution_count": 31,
     "metadata": {},
     "output_type": "execute_result"
    }
   ],
   "source": [
    "checkpoint  = ModelCheckpoint(filepath='my_best_model.epoch_01-loss_13.31.hdf5' ,monitor='val_loss', verbose=1,save_best_only=True,mode='min')\n",
    "checkpoint2 = TensorBoard(log_dir='./logs')\n",
    "callback = [checkpoint,checkpoint2]\n",
    "model.fit(X_train,\n",
    "           y_train,\n",
    "            epochs=10, \n",
    "          validation_data=(X_test,y_test),\n",
    "          callbacks=callback\n",
    "          )"
   ]
  },
  {
   "cell_type": "code",
   "execution_count": 19,
   "metadata": {},
   "outputs": [],
   "source": [
    "import cv2 \n",
    "\n",
    "# read the image file \n",
    "file ='./test.png'\n",
    "img = cv2.imread(file, cv2.IMREAD_GRAYSCALE) \n",
    "\n",
    "\n",
    "imag = cv2.resize(img,(28,28),interpolation=cv2.INTER_LINEAR)\n",
    "\n",
    "imag = imag.astype('float32')\n",
    "\n",
    "imag = imag.reshape (1,28,28,1)\n",
    "imag = 255-imag\n",
    "imag /= 255"
   ]
  },
  {
   "cell_type": "code",
   "execution_count": 36,
   "metadata": {},
   "outputs": [
    {
     "name": "stdout",
     "output_type": "stream",
     "text": [
      "1/1 [==============================] - 0s 90ms/step\n",
      "[[0.00350934 0.06689809 0.11576775 0.39443347 0.03521086 0.31863073\n",
      "  0.01553205 0.00271508 0.04392209 0.00338056]]\n"
     ]
    }
   ],
   "source": [
    "\n",
    "predictions = model.predict(imag)\n",
    "print(predictions)"
   ]
  },
  {
   "cell_type": "code",
   "execution_count": 37,
   "metadata": {},
   "outputs": [
    {
     "name": "stdout",
     "output_type": "stream",
     "text": [
      "[3]\n"
     ]
    }
   ],
   "source": [
    "predictions = np.argmax(predictions, axis=1)\n",
    "print(predictions)"
   ]
  },
  {
   "cell_type": "code",
   "execution_count": 35,
   "metadata": {},
   "outputs": [
    {
     "data": {
      "image/png": "[encoded data removed]",
      "text/plain": [
       "<Figure size 2000x400 with 2 Axes>"
      ]
     },
     "metadata": {},
     "output_type": "display_data"
    }
   ],
   "source": [
    "fig, axes = plt.subplots(ncols=2, sharex=False,\n",
    "                         sharey=True, figsize=(20, 4))\n",
    "for i in range(1):\n",
    "    axes[i].set_title(predictions)\n",
    "    axes[i].imshow(img, cmap='gray')\n",
    "    axes[i].get_xaxis().set_visible(False)\n",
    "    axes[i].get_yaxis().set_visible(False)\n",
    "plt.show()"
   ]
  },
  {
   "cell_type": "code",
   "execution_count": null,
   "metadata": {},
   "outputs": [],
   "source": []
  }
 ],
 "metadata": {
  "kernelspec": {
   "display_name": "Python 3",
   "language": "python",
   "name": "python3"
  },
  "language_info": {
   "codemirror_mode": {
    "name": "ipython",
    "version": 3
   },
   "file_extension": ".py",
   "mimetype": "text/x-python",
   "name": "python",
   "nbconvert_exporter": "python",
   "pygments_lexer": "ipython3",
   "version": "3.9.6"
  }
 },
 "nbformat": 4,
 "nbformat_minor": 2
}
